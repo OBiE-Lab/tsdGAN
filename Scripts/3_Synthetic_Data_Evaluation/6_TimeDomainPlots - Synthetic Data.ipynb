{
 "cells": [
  {
   "cell_type": "markdown",
   "metadata": {},
   "source": [
    "### tsdGAN: A generative adversarial network approach for removing electrocardiographic interference from electromyographic signals \n",
    "Lucas Haberkamp<sup>1,2</sup>, Charles A. Weisenbach<sup>1</sup>, Peter Le<sup>3</sup>  \n",
    "<sup>1</sup>Naval Medical Research Unit Dayton, Wright-Patterson Air Force Base, OH, USA   \n",
    "<sup>2</sup>Leidos, Reston, VA, USA   \n",
    "<sup>3</sup>Air Force Research Laboratory, 711th Human Performance Wing, Wright-Patterson Air Force Base, OH, USA \n",
    "\n",
    "#### This notebook generates time-domain plots of the denoising approaches"
   ]
  },
  {
   "cell_type": "code",
   "execution_count": null,
   "metadata": {},
   "outputs": [],
   "source": [
    "import numpy as np \n",
    "import matplotlib.pyplot as plt\n",
    "import pickle"
   ]
  },
  {
   "cell_type": "code",
   "execution_count": null,
   "metadata": {},
   "outputs": [],
   "source": [
    "# Set hyperparameters\n",
    "snr_level = 5\n",
    "Fs = 2148\n",
    "window_size = int(5*Fs)\n",
    "\n",
    "# Time-axis\n",
    "t = np.arange(window_size)/Fs"
   ]
  },
  {
   "cell_type": "code",
   "execution_count": null,
   "metadata": {},
   "outputs": [],
   "source": [
    "with open('../../Data/Preprocessed Data/Synthetic/Validation/x_val.pkl', 'rb') as f:\n",
    "  raw = pickle.load(f)[snr_level]\n",
    "\n",
    "with open('../../Data/Preprocessed Data/Synthetic/Validation/y_val.pkl', 'rb') as f:\n",
    "  ground_truth = pickle.load(f)[snr_level]\n",
    "\n",
    "with open('../../Data/Synthetic Predictions/HPF.pkl', 'rb') as f:\n",
    "  hpf = pickle.load(f)[snr_level]\n",
    "\n",
    "with open('../../Data/Synthetic Predictions/tsdGAN.pkl', 'rb') as f:\n",
    "  tsdGAN = pickle.load(f)[snr_level]\n",
    "\n",
    "with open('../../Data/Synthetic Predictions/DynamicFiltration.pkl', 'rb') as f:\n",
    "  dynamic_filtration = pickle.load(f)[snr_level]\n",
    "\n",
    "with open('../../Data/Synthetic Predictions/TemplateSubtraction.pkl', 'rb') as f:\n",
    "  template_subtraction = pickle.load(f)[snr_level]"
   ]
  },
  {
   "cell_type": "code",
   "execution_count": null,
   "metadata": {},
   "outputs": [],
   "source": [
    "for trial in range(50):\n",
    "\n",
    "    fig, ax = plt.subplots(nrows=2, ncols=2, sharex=True, figsize=(13, 8), facecolor='white')\n",
    "\n",
    "    # Plot the raw data in the top subplot\n",
    "    ax[0, 0].plot(t, raw[trial], color='black', linewidth=2, label='Contaminated EMG', linestyle='dotted', alpha=0.75)\n",
    "    ax[0, 0].plot(t, ground_truth[trial], color='black', linewidth=1.5, label='Ground Truth')\n",
    "    ax[0, 0].plot(t, tsdGAN[trial], color='#56B4E9', linewidth=1.5, label='tsdGAN')\n",
    "\n",
    "    ax[1, 0].plot(t, raw[trial], color='black', linewidth=2, label='Contaminated EMG', linestyle='dotted', alpha=0.75)\n",
    "    ax[1, 0].plot(t, ground_truth[trial], color='black', linewidth=1.5, label='Ground Truth')\n",
    "    ax[1, 0].plot(t, template_subtraction[trial], color='#E69F00', linewidth=1.5, label='Template Subtraction')\n",
    "\n",
    "    ax[0, 1].plot(t, raw[trial], color='black', linewidth=2, label='Contaminated EMG', linestyle='dotted', alpha=0.75)\n",
    "    ax[0, 1].plot(t, ground_truth[trial], color='black', linewidth=1.5, label='Ground Truth')\n",
    "    ax[0, 1].plot(t, hpf[trial], color='#009E73', linewidth=1.5, label='HPF')\n",
    "\n",
    "    ax[1, 1].plot(t, raw[trial], color='black', linewidth=2, label='Contaminated EMG', linestyle='dotted', alpha=0.75)\n",
    "    ax[1, 1].plot(t, ground_truth[trial], color='black', linewidth=1.5, label='Ground Truth')\n",
    "    ax[1, 1].plot(t, dynamic_filtration[trial], color='#DC143C', linewidth=1.5, label='Dynamic Filtration')\n",
    "\n",
    "    # Add legend and axis labels\n",
    "    ax[0, 0].legend(loc='upper right', fontsize=10)\n",
    "    ax[1, 0].legend(loc='upper right', fontsize=10)\n",
    "    ax[0, 1].legend(loc='upper right', fontsize=10)\n",
    "    ax[1, 1].legend(loc='upper right', fontsize=10)\n",
    "\n",
    "    ax[0, 0].set_ylabel('Amplitude ($\\mu$V)', fontsize=14)\n",
    "    ax[1, 0].set_ylabel('Amplitude ($\\mu$V)', fontsize=14)\n",
    "\n",
    "    ax[1, 0].set_xlabel('Time (s)', fontsize=14)\n",
    "    ax[1, 1].set_xlabel('Time (s)', fontsize=14)\n",
    "\n",
    "    # # Set title for each subplot\n",
    "    ax[0, 0].set_title('tsdGAN', fontsize=14)\n",
    "    ax[1, 0].set_title('Template Subtraction', fontsize=14)\n",
    "    ax[0, 1].set_title('High Pass Filter', fontsize=14)\n",
    "    ax[1, 1].set_title('Dynamic Filter', fontsize=14)\n",
    "\n",
    "    plt.xlim([t[0],t[-1]])\n",
    "\n",
    "    # Set tight layout\n",
    "    plt.tight_layout()\n",
    "    # # Save the figure\n",
    "    plt.savefig(\"../../Plots/Synthetic Validation Examples/TimeDomain/Sample \" + str(trial) + \" Prediction.png\", dpi=500)\n",
    "    plt.show()\n"
   ]
  }
 ],
 "metadata": {
  "kernelspec": {
   "display_name": "Python 3.8.13 ('ml')",
   "language": "python",
   "name": "python3"
  },
  "language_info": {
   "codemirror_mode": {
    "name": "ipython",
    "version": 3
   },
   "file_extension": ".py",
   "mimetype": "text/x-python",
   "name": "python",
   "nbconvert_exporter": "python",
   "pygments_lexer": "ipython3",
   "version": "3.8.13"
  },
  "orig_nbformat": 4,
  "vscode": {
   "interpreter": {
    "hash": "ed17bba15b2f81cf1230037794da0c0f111480f5f2f8146275a9e25508496a65"
   }
  }
 },
 "nbformat": 4,
 "nbformat_minor": 2
}
