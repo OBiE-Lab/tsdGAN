{
 "cells": [
  {
   "cell_type": "markdown",
   "metadata": {},
   "source": [
    "### tsdGAN: A generative adversarial network approach for removing electrocardiographic interference from electromyographic signals \n",
    "Lucas Haberkamp<sup>1,2</sup>, Charles A. Weisenbach<sup>1</sup>, Peter Le<sup>3</sup>  \n",
    "<sup>1</sup>Naval Medical Research Unit Dayton, Wright-Patterson Air Force Base, OH, USA   \n",
    "<sup>2</sup>Leidos, Reston, VA, USA   \n",
    "<sup>3</sup>Air Force Research Laboratory, 711th Human Performance Wing, Wright-Patterson Air Force Base, OH, USA \n",
    "\n",
    "#### This notebook generates frequency domain plots of the denoising approaches"
   ]
  },
  {
   "cell_type": "code",
   "execution_count": null,
   "metadata": {},
   "outputs": [],
   "source": [
    "import numpy as np \n",
    "import matplotlib.pyplot as plt\n",
    "import pickle\n",
    "from scipy import signal"
   ]
  },
  {
   "cell_type": "code",
   "execution_count": null,
   "metadata": {},
   "outputs": [],
   "source": [
    "# Load data\n",
    "with open('../../Data/Preprocessed Data/Synthetic/Validation/x_val.pkl', 'rb') as f:\n",
    "  raw = pickle.load(f)\n",
    "\n",
    "with open('../../Data/Preprocessed Data/Synthetic//Validation/y_val.pkl', 'rb') as f:\n",
    "  ground_truth = pickle.load(f)\n",
    "\n",
    "with open('../../Data/Synthetic Predictions/HPF.pkl', 'rb') as f:\n",
    "  hpf = pickle.load(f)\n",
    "\n",
    "with open('../../Data/Synthetic Predictions/tsdGAN.pkl', 'rb') as f:\n",
    "  tsdGAN = pickle.load(f)\n",
    "\n",
    "with open('../../Data/Synthetic Predictions/DynamicFiltration.pkl', 'rb') as f:\n",
    "  dynamic_filtration = pickle.load(f)\n",
    "\n",
    "with open('../../Data/Synthetic Predictions/TemplateSubtraction.pkl', 'rb') as f:\n",
    "  template_subtraction = pickle.load(f)"
   ]
  },
  {
   "cell_type": "code",
   "execution_count": null,
   "metadata": {},
   "outputs": [],
   "source": [
    "# Set hyperparameters\n",
    "Fs = 2148\n",
    "snr_level = 1\n",
    "\n",
    "def get_psd(data, Fs):\n",
    "    data /= 1e6\n",
    "    # Window length of 1 second (1000 samples)\n",
    "    nperseg = Fs*1\n",
    "    # 75% overlap\n",
    "    noverlap = np.ceil(nperseg * 0.75) \n",
    "    # Hanning window\n",
    "    window = 'hann'  \n",
    "    # Zero-padding to the next power of two\n",
    "    nfft = 2**np.ceil(np.log2(nperseg))\n",
    "\n",
    "    freq, pxx = signal.welch(data, fs=Fs, window=window, nperseg=nperseg, \n",
    "                                noverlap=noverlap, nfft=nfft)\n",
    "    return freq, pxx\n",
    "\n",
    "def get_avg_psd(data, Fs):\n",
    "    f, pxx = [], []\n",
    "    for i in range(data.shape[0]):\n",
    "        curr_f, curr_pxx = get_psd(data[i].squeeze(), Fs=Fs)\n",
    "        f.append(curr_f)\n",
    "        pxx.append(curr_pxx)\n",
    "    return np.mean(f, axis=0), np.mean(pxx, axis=0)"
   ]
  },
  {
   "cell_type": "code",
   "execution_count": null,
   "metadata": {},
   "outputs": [],
   "source": [
    "for snr_level in range(1, 11):\n",
    "    print(f\"SNR Level: {snr_level}\")\n",
    "\n",
    "    all_f = {}\n",
    "    all_pxx = {}\n",
    "\n",
    "    all_f['Raw'], all_pxx['Raw'] = get_avg_psd(raw[snr_level], Fs=Fs)\n",
    "    all_f['GroundTruth'], all_pxx['GroundTruth'] = get_avg_psd(ground_truth[snr_level], Fs=Fs)\n",
    "    all_f['HPF'], all_pxx['HPF'] = get_avg_psd(hpf[snr_level], Fs=Fs)\n",
    "    all_f['tsdGAN'], all_pxx['tsdGAN'] = get_avg_psd(tsdGAN[snr_level], Fs=Fs)\n",
    "    all_f['DynamicFiltration'], all_pxx['DynamicFiltration'] = get_avg_psd(dynamic_filtration[snr_level], Fs=Fs)\n",
    "    all_f['TemplateSubtraction'], all_pxx['TemplateSubtraction'] = get_avg_psd(template_subtraction[snr_level], Fs=Fs)\n",
    "\n",
    "\n",
    "    fig, ax = plt.subplots(nrows=2, ncols=2, sharex=True, sharey=True, figsize=(13, 8), facecolor='white')\n",
    "\n",
    "    lw = 2.25\n",
    "\n",
    "    # Plot the raw data in the top subplot\n",
    "    ax[0, 0].plot(all_f['Raw'], all_pxx['Raw'], color='black', linewidth=lw, label='Contaminated EMG', linestyle='dotted', alpha=0.75)\n",
    "    ax[0, 0].plot(all_f['GroundTruth'], all_pxx['GroundTruth'], color='black', linewidth=lw, label='Ground Truth')\n",
    "    ax[0, 0].plot(all_f['tsdGAN'], all_pxx['tsdGAN'], color='#56B4E9', linewidth=lw, label='tsdGAN')\n",
    "\n",
    "    ax[1, 0].plot(all_f['Raw'], all_pxx['Raw'], color='black', linewidth=lw, label='Contaminated EMG', linestyle='dotted', alpha=0.75)\n",
    "    ax[1, 0].plot(all_f['GroundTruth'], all_pxx['GroundTruth'], color='black', linewidth=lw, label='Ground Truth')\n",
    "    ax[1, 0].plot(all_f['TemplateSubtraction'], all_pxx['TemplateSubtraction'], color='#E69F00', linewidth=lw, label='Template Subtraction')\n",
    "\n",
    "    ax[0, 1].plot(all_f['Raw'], all_pxx['Raw'], color='black', linewidth=lw, label='Contaminated EMG', linestyle='dotted', alpha=0.75)\n",
    "    ax[0, 1].plot(all_f['GroundTruth'], all_pxx['GroundTruth'], color='black', linewidth=lw, label='Ground Truth')\n",
    "    ax[0, 1].plot(all_f['HPF'], all_pxx['HPF'], color='#009E73', linewidth=lw, label='High Pass Filter')\n",
    "\n",
    "    ax[1, 1].plot(all_f['Raw'], all_pxx['Raw'], color='black', linewidth=lw, label='Contaminated EMG', linestyle='dotted', alpha=0.75)\n",
    "    ax[1, 1].plot(all_f['GroundTruth'], all_pxx['GroundTruth'], color='black', linewidth=lw, label='Ground Truth')\n",
    "    ax[1, 1].plot(all_f['DynamicFiltration'], all_pxx['DynamicFiltration'], color='#DC143C', linewidth=lw, label='Dynamic Filtration')\n",
    "    \n",
    "    # Add legend and axis labels\n",
    "    ax[0, 0].legend(loc='upper right', fontsize=10)\n",
    "    ax[1, 0].legend(loc='upper right', fontsize=10)\n",
    "    ax[0, 1].legend(loc='upper right', fontsize=10)\n",
    "    ax[1, 1].legend(loc='upper right', fontsize=10)\n",
    "\n",
    "    ax[0, 0].set_ylabel('PSD (V\\u00B2/Hz)', fontsize=14)\n",
    "    ax[1, 0].set_ylabel('PSD (V\\u00B2/Hz)', fontsize=14)\n",
    "\n",
    "    ax[1, 0].set_xlabel('Frequency (Hz)', fontsize=14)\n",
    "    ax[1, 1].set_xlabel('Frequency (Hz)', fontsize=14)\n",
    "\n",
    "    # # Set title for each subplot\n",
    "    ax[0, 0].set_title('tsdGAN', fontsize=14)\n",
    "    ax[1, 0].set_title('Template Subtraction', fontsize=14)\n",
    "    ax[0, 1].set_title('High Pass Filter', fontsize=14)\n",
    "    ax[1, 1].set_title('Dynamic Filtration', fontsize=14)\n",
    "\n",
    "    plt.xlim(0, 140)\n",
    "\n",
    "    # Set tight layout\n",
    "    plt.tight_layout()\n",
    "    # # Save the figure\n",
    "    plt.savefig(f\"../../Plots/Synthetic Validation Examples/FrequencyDomain/SNR{snr_level}.png\", dpi=500)\n",
    "    plt.show()\n"
   ]
  }
 ],
 "metadata": {
  "kernelspec": {
   "display_name": "Python 3.8.13 ('ml')",
   "language": "python",
   "name": "python3"
  },
  "language_info": {
   "codemirror_mode": {
    "name": "ipython",
    "version": 3
   },
   "file_extension": ".py",
   "mimetype": "text/x-python",
   "name": "python",
   "nbconvert_exporter": "python",
   "pygments_lexer": "ipython3",
   "version": "3.8.13"
  },
  "orig_nbformat": 4,
  "vscode": {
   "interpreter": {
    "hash": "ed17bba15b2f81cf1230037794da0c0f111480f5f2f8146275a9e25508496a65"
   }
  }
 },
 "nbformat": 4,
 "nbformat_minor": 2
}
