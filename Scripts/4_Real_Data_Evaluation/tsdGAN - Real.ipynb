{
 "cells": [
  {
   "cell_type": "markdown",
   "id": "43023029",
   "metadata": {},
   "source": [
    "### tsdGAN: A generative adversarial network approach for removing electrocardiographic interference from electromyographic signals \n",
    "Lucas Haberkamp<sup>1,2</sup> Charles A. Weisenbach<sup>1</sup> Peter Le<sup>3</sup>  \n",
    "<sup>1</sup>Naval Medical Research Unit Dayton, Wright-Patterson Air Force Base, OH, USA   \n",
    "<sup>2</sup>Leidos, Reston, VA, USA   \n",
    "<sup>3</sup>Air Force Research Laboratory, 711th Human Performance Wing, Wright-Patterson Air Force Base, OH, USA \n",
    "\n",
    "#### This notebook is used to evaluate the tsdGAN model using the experimental dataset"
   ]
  },
  {
   "cell_type": "code",
   "execution_count": null,
   "id": "0983e58c",
   "metadata": {},
   "outputs": [],
   "source": [
    "import os\n",
    "import numpy as np\n",
    "import pandas as pd\n",
    "from sklearn.preprocessing import StandardScaler\n",
    "import tensorflow as tf\n",
    "from scipy import signal\n",
    "import plotly.graph_objects as go\n",
    "import plotly.subplots as sp"
   ]
  },
  {
   "cell_type": "markdown",
   "id": "cb139f8e",
   "metadata": {},
   "source": [
    "Define helper function to load in EMG dataset"
   ]
  },
  {
   "cell_type": "code",
   "execution_count": null,
   "id": "f001ccbb",
   "metadata": {},
   "outputs": [],
   "source": [
    "def extractdf(data_path):\n",
    "    file_list, df_list = [], [] \n",
    "    for filename in sorted(os.listdir(data_path)):\n",
    "        f = os.path.join(data_path, filename) \n",
    "        if os.path.splitext(filename)[1] == '.csv':\n",
    "            current_file = os.path.splitext(filename)[0]\n",
    "            file_list.append(current_file)  \n",
    "            tmp_df = pd.read_csv(f, header=13)\n",
    "            df_list.append(tmp_df)\n",
    "\n",
    "    return df_list, file_list"
   ]
  },
  {
   "cell_type": "markdown",
   "id": "11ac26fd",
   "metadata": {},
   "source": [
    "Load experimental validation dataset"
   ]
  },
  {
   "cell_type": "code",
   "execution_count": null,
   "id": "ae8e761f",
   "metadata": {},
   "outputs": [],
   "source": [
    "# Specify paths\n",
    "path = '../../Data/Raw TS EMG Data/Validation'\n",
    "\n",
    "# Extract the data as dataframes stored into lists\n",
    "data_list, file_list = extractdf(path)\n",
    "\n",
    "print(\"Files in the dataset:\", file_list)"
   ]
  },
  {
   "cell_type": "markdown",
   "id": "1b4c8f97",
   "metadata": {},
   "source": [
    "Movement List:   \n",
    "TrunkStability_DS_S20_EMG_Raw_12 - Deep Sagittal Flexion 20lb Lift  \n",
    "TrunkStability_DS_S20_EMG_Raw_17 - Sit-to-Stand  \n",
    "TrunkStability_DS_S20_EMG_Raw_47 - Prolonged Seated Task  \n",
    "TrunkStability_DS_S20_EMG_Raw_56 - Standing Neutral"
   ]
  },
  {
   "cell_type": "code",
   "execution_count": null,
   "id": "0eef1ad5",
   "metadata": {},
   "outputs": [],
   "source": [
    "mvmt_list = [\"Sagittal Flexion\", \"Sit-to-Stand\", \n",
    "    \"Seated Task\", \"Standing Neutral\"]\n",
    "\n",
    "# Define hyperparameters\n",
    "muscle_list = data_list[0].columns[3:]\n",
    "Fs = 1920\n",
    "\n",
    "# Initialize scaler object\n",
    "scaler = StandardScaler()\n",
    "\n",
    "# Define a new set of more descriptive names for each EMG sensor\n",
    "better_muscle_names = ['Right Erector Spinae',\n",
    "    'Left Erector Spinae',\n",
    "    'Right Internal Oblique',\n",
    "    'Left Internal Oblique',\n",
    "    'Right Latissimus Dorsi',\n",
    "    'Left Latissimus Dorsi',\n",
    "    'Right Rectus Abdominis',\n",
    "    'Left Rectus Abdominis',\n",
    "    'Right External Oblique',\n",
    "    'Left External Oblique']"
   ]
  },
  {
   "cell_type": "markdown",
   "id": "06b8e48c",
   "metadata": {},
   "source": [
    "Load in tsdGAN model"
   ]
  },
  {
   "cell_type": "code",
   "execution_count": null,
   "id": "d85f9973",
   "metadata": {},
   "outputs": [],
   "source": [
    "model = tf.keras.models.load_model(\"../../Models/Experimental/experimental_generator_epoch150.h5\", compile=False)"
   ]
  },
  {
   "cell_type": "markdown",
   "id": "805aff4e",
   "metadata": {},
   "source": [
    "Define a Butterwoth filter function to remove high-frequency components"
   ]
  },
  {
   "cell_type": "code",
   "execution_count": null,
   "id": "f66c1c8f",
   "metadata": {},
   "outputs": [],
   "source": [
    "def butterfilter(x, Fc, Fs, type):\n",
    "    Wn = np.asarray(Fc)/np.asarray(Fs/2)\n",
    "    b, a = signal.butter(2, Wn, type)\n",
    "    return signal.filtfilt(b,a,x)"
   ]
  },
  {
   "cell_type": "markdown",
   "id": "5498102e",
   "metadata": {},
   "source": [
    "Define the tsdGAN filter function that handles all scaling and pre-processing"
   ]
  },
  {
   "cell_type": "code",
   "execution_count": null,
   "id": "c06ac917",
   "metadata": {},
   "outputs": [],
   "source": [
    "def tsdGAN_filter(raw_data, window_size=2880):\n",
    "    data = raw_data.values\n",
    "\n",
    "    step_size = window_size // 3\n",
    "    x_test = []\n",
    "\n",
    "    # Generate windows\n",
    "    for i in range(window_size, data.shape[0], step_size):\n",
    "        x_test.append(data[i-window_size:i])\n",
    "    \n",
    "    # Handle the last window if there's remaining data\n",
    "    last_data_start = i\n",
    "    if last_data_start < data.shape[0]:\n",
    "        x_test.append(data[-window_size:])\n",
    "    \n",
    "    x_test = np.array(x_test)\n",
    "    \n",
    "    # Scale the data\n",
    "    x_test_scaled = []\n",
    "    for window in x_test:\n",
    "        x_test_scaled.append(scaler.fit_transform(window.reshape(-1, 1)))\n",
    "    x_test_scaled = np.array(x_test_scaled)\n",
    "\n",
    "    # Predict on scaled data\n",
    "    y_pred = model.predict(x_test_scaled, batch_size=32)\n",
    "\n",
    "    # Inverse transform the predictions\n",
    "    y_pred_inverse = []\n",
    "    for i in range(y_pred.shape[0]):\n",
    "        scaler.fit(x_test[i].reshape(-1, 1))\n",
    "        y_pred_inverse.append(scaler.inverse_transform(y_pred[i]))\n",
    "    y_pred_inverse = np.array(y_pred_inverse)\n",
    "\n",
    "    # Prepare the final array\n",
    "    final_output = [y_pred_inverse[0][:1920]]  # Start with the first segment's initial part\n",
    "\n",
    "    # Add middle segments, adjust if necessary to include more of each segment\n",
    "    for seg in y_pred_inverse[1:-1]:\n",
    "        final_output.append(seg[step_size:-step_size])\n",
    "\n",
    "    # Handle the last segment to match the remaining data length\n",
    "    final_len = data.shape[0] - last_data_start + step_size\n",
    "    final_segment = y_pred_inverse[-1]\n",
    "    final_output.append(final_segment[-final_len:])\n",
    "\n",
    "    # Concatenate the adjusted segments\n",
    "    final_output = np.concatenate(final_output, axis=0)\n",
    "\n",
    "    return final_output.ravel()"
   ]
  },
  {
   "cell_type": "markdown",
   "id": "73b78c55",
   "metadata": {},
   "source": [
    "Process each trial with tsdGAN and create dynamic plots using Plotly"
   ]
  },
  {
   "cell_type": "code",
   "execution_count": null,
   "id": "30787dcc",
   "metadata": {},
   "outputs": [],
   "source": [
    "for mvmt, df in enumerate(data_list):\n",
    "    df = df[muscle_list]\n",
    "    df -= df.mean() # Ensure data has zero mean\n",
    "    df = df.apply(lambda x: butterfilter(x, Fc=500, Fs=1920, type='low')) # Remove unwanted high-frequency components\n",
    "\n",
    "    df_pred = df.apply(lambda x: tsdGAN_filter(x)) # Apply ECGbe-GAN filter\n",
    "    \n",
    "    # Define time-axis\n",
    "    t = np.arange(len(df))/1920\n",
    "    \n",
    "    c = 0\n",
    "    \n",
    "    start_idx = 0\n",
    "    end_idx = -1\n",
    "\n",
    "    fig = sp.make_subplots(\n",
    "        rows=5,\n",
    "        cols=2,\n",
    "        subplot_titles=[f\"{mvmt_list[mvmt]}: {better_muscle_names[i]}\" for i, col in enumerate(df.columns)],\n",
    "        vertical_spacing=0.05,\n",
    "        horizontal_spacing=0.05,  # Add horizontal_spacing to reduce the space between subplots horizontally\n",
    "        specs=[[{}, {}]] * 5,\n",
    "    )\n",
    "\n",
    "    for i in range(5):\n",
    "        for j in range(2):\n",
    "            showlegend_flag = True if (i, j) == (0, 0) else False\n",
    "            fig.add_trace(go.Scatter(x=t[start_idx:end_idx], y=df.iloc[start_idx:end_idx, c], name=\"Raw\", legendgroup=\"Raw\", line=dict(color=\"black\", width=1.5), showlegend=showlegend_flag), row=i+1, col=j+1)\n",
    "            fig.add_trace(go.Scatter(x=t[start_idx:end_idx], y=df_pred.iloc[start_idx:end_idx, c], name=\"tsdGAN\", legendgroup=\"tsdGAN\", showlegend=showlegend_flag, line=dict(color=\"#56B4E9\", width=1.25)), row=i+1, col=j+1)\n",
    "            \n",
    "            xaxis_title = \"Time (s)\" if i == 4 else None\n",
    "            yaxis_title = \"Amplitude (mV)\" if j == 0 else None\n",
    "            \n",
    "            fig.update_xaxes(title_text=xaxis_title, row=i+1, col=j+1, showgrid=False, title_standoff=10, tickfont=dict(size=10), title_font=dict(size=12))  # Update title_font for x-axis\n",
    "            fig.update_yaxes(title_text=yaxis_title, row=i+1, col=j+1, showgrid=False, title_standoff=10, tickfont=dict(size=10), title_font=dict(size=12))  # Update title_font for y-axis\n",
    "            \n",
    "            c += 1\n",
    "\n",
    "        fig.update_layout(\n",
    "            height=1200,\n",
    "            width=1000,\n",
    "            legend=dict(orientation=\"h\", yanchor=\"bottom\", y=1.02, xanchor=\"right\", x=1, font=dict(size=12)),\n",
    "            plot_bgcolor=\"white\",\n",
    "            margin=dict(l=10, r=10, t=100, b=50, autoexpand=True),  # set l and r to center the plot\n",
    "        )\n",
    "\n",
    "    html_string = f'''\n",
    "    <!DOCTYPE html>\n",
    "    <html>\n",
    "    <head>\n",
    "        <meta charset=\"UTF-8\">\n",
    "        <meta name=\"viewport\" content=\"width=device-width, initial-scale=1\">\n",
    "        <style>\n",
    "            .plotly-chart-container {{\n",
    "                display: flex;\n",
    "                justify-content: center;\n",
    "                align-items: center;\n",
    "                height: 100%;\n",
    "                width: 100%;\n",
    "            }}\n",
    "        </style>\n",
    "    </head>\n",
    "    <body>\n",
    "        <div class=\"plotly-chart-container\">\n",
    "            {fig.to_html(full_html=False, include_plotlyjs='cdn')}\n",
    "        </div>\n",
    "    </body>\n",
    "    </html>\n",
    "    '''\n",
    "\n",
    "    with open(f\"../../Plots/Experimental Validation Examples/tsdGAN/tsdGAN_{mvmt_list[mvmt]}.html\", \"w\") as f:\n",
    "        f.write(html_string)\n",
    "    fig.show()"
   ]
  }
 ],
 "metadata": {
  "kernelspec": {
   "display_name": "Python 3.8.13 ('ml')",
   "language": "python",
   "name": "python3"
  },
  "language_info": {
   "codemirror_mode": {
    "name": "ipython",
    "version": 3
   },
   "file_extension": ".py",
   "mimetype": "text/x-python",
   "name": "python",
   "nbconvert_exporter": "python",
   "pygments_lexer": "ipython3",
   "version": "3.8.13"
  },
  "vscode": {
   "interpreter": {
    "hash": "ed17bba15b2f81cf1230037794da0c0f111480f5f2f8146275a9e25508496a65"
   }
  }
 },
 "nbformat": 4,
 "nbformat_minor": 5
}
